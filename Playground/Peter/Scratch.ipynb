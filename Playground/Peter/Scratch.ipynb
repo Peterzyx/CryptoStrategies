{
 "cells": [
  {
   "cell_type": "code",
   "execution_count": 1,
   "id": "28d298ed",
   "metadata": {},
   "outputs": [],
   "source": [
    "%load_ext autoreload\n",
    "%autoreload 2\n",
    "#%reload_ext autoreload"
   ]
  },
  {
   "cell_type": "code",
   "execution_count": 2,
   "id": "d7846615",
   "metadata": {},
   "outputs": [],
   "source": [
    "import pandas as pd\n",
    "import numpy as np\n",
    "from datetime import datetime\n",
    "data_folder = \"../../Data/Kaggle/\""
   ]
  },
  {
   "cell_type": "code",
   "execution_count": 3,
   "id": "f7214b5b",
   "metadata": {},
   "outputs": [
    {
     "data": {
      "text/html": [
       "<div>\n",
       "<style scoped>\n",
       "    .dataframe tbody tr th:only-of-type {\n",
       "        vertical-align: middle;\n",
       "    }\n",
       "\n",
       "    .dataframe tbody tr th {\n",
       "        vertical-align: top;\n",
       "    }\n",
       "\n",
       "    .dataframe thead th {\n",
       "        text-align: right;\n",
       "    }\n",
       "</style>\n",
       "<table border=\"1\" class=\"dataframe\">\n",
       "  <thead>\n",
       "    <tr style=\"text-align: right;\">\n",
       "      <th></th>\n",
       "      <th>Asset_ID</th>\n",
       "      <th>Weight</th>\n",
       "      <th>Asset_Name</th>\n",
       "    </tr>\n",
       "  </thead>\n",
       "  <tbody>\n",
       "    <tr>\n",
       "      <th>1</th>\n",
       "      <td>0</td>\n",
       "      <td>4.304065</td>\n",
       "      <td>Binance Coin</td>\n",
       "    </tr>\n",
       "    <tr>\n",
       "      <th>2</th>\n",
       "      <td>1</td>\n",
       "      <td>6.779922</td>\n",
       "      <td>Bitcoin</td>\n",
       "    </tr>\n",
       "    <tr>\n",
       "      <th>0</th>\n",
       "      <td>2</td>\n",
       "      <td>2.397895</td>\n",
       "      <td>Bitcoin Cash</td>\n",
       "    </tr>\n",
       "    <tr>\n",
       "      <th>10</th>\n",
       "      <td>3</td>\n",
       "      <td>4.406719</td>\n",
       "      <td>Cardano</td>\n",
       "    </tr>\n",
       "    <tr>\n",
       "      <th>13</th>\n",
       "      <td>4</td>\n",
       "      <td>3.555348</td>\n",
       "      <td>Dogecoin</td>\n",
       "    </tr>\n",
       "    <tr>\n",
       "      <th>3</th>\n",
       "      <td>5</td>\n",
       "      <td>1.386294</td>\n",
       "      <td>EOS.IO</td>\n",
       "    </tr>\n",
       "    <tr>\n",
       "      <th>5</th>\n",
       "      <td>6</td>\n",
       "      <td>5.894403</td>\n",
       "      <td>Ethereum</td>\n",
       "    </tr>\n",
       "    <tr>\n",
       "      <th>4</th>\n",
       "      <td>7</td>\n",
       "      <td>2.079442</td>\n",
       "      <td>Ethereum Classic</td>\n",
       "    </tr>\n",
       "    <tr>\n",
       "      <th>11</th>\n",
       "      <td>8</td>\n",
       "      <td>1.098612</td>\n",
       "      <td>IOTA</td>\n",
       "    </tr>\n",
       "    <tr>\n",
       "      <th>6</th>\n",
       "      <td>9</td>\n",
       "      <td>2.397895</td>\n",
       "      <td>Litecoin</td>\n",
       "    </tr>\n",
       "    <tr>\n",
       "      <th>12</th>\n",
       "      <td>10</td>\n",
       "      <td>1.098612</td>\n",
       "      <td>Maker</td>\n",
       "    </tr>\n",
       "    <tr>\n",
       "      <th>7</th>\n",
       "      <td>11</td>\n",
       "      <td>1.609438</td>\n",
       "      <td>Monero</td>\n",
       "    </tr>\n",
       "    <tr>\n",
       "      <th>9</th>\n",
       "      <td>12</td>\n",
       "      <td>2.079442</td>\n",
       "      <td>Stellar</td>\n",
       "    </tr>\n",
       "    <tr>\n",
       "      <th>8</th>\n",
       "      <td>13</td>\n",
       "      <td>1.791759</td>\n",
       "      <td>TRON</td>\n",
       "    </tr>\n",
       "  </tbody>\n",
       "</table>\n",
       "</div>"
      ],
      "text/plain": [
       "    Asset_ID    Weight        Asset_Name\n",
       "1          0  4.304065      Binance Coin\n",
       "2          1  6.779922           Bitcoin\n",
       "0          2  2.397895      Bitcoin Cash\n",
       "10         3  4.406719           Cardano\n",
       "13         4  3.555348          Dogecoin\n",
       "3          5  1.386294            EOS.IO\n",
       "5          6  5.894403          Ethereum\n",
       "4          7  2.079442  Ethereum Classic\n",
       "11         8  1.098612              IOTA\n",
       "6          9  2.397895          Litecoin\n",
       "12        10  1.098612             Maker\n",
       "7         11  1.609438            Monero\n",
       "9         12  2.079442           Stellar\n",
       "8         13  1.791759              TRON"
      ]
     },
     "execution_count": 3,
     "metadata": {},
     "output_type": "execute_result"
    }
   ],
   "source": [
    "asset_details = pd.read_csv(data_folder + 'asset_details.csv')\n",
    "asset_details.sort_values(by=['Asset_ID'])"
   ]
  },
  {
   "cell_type": "code",
   "execution_count": 4,
   "id": "b82fba80",
   "metadata": {
    "scrolled": true
   },
   "outputs": [
    {
     "data": {
      "text/html": [
       "<div>\n",
       "<style scoped>\n",
       "    .dataframe tbody tr th:only-of-type {\n",
       "        vertical-align: middle;\n",
       "    }\n",
       "\n",
       "    .dataframe tbody tr th {\n",
       "        vertical-align: top;\n",
       "    }\n",
       "\n",
       "    .dataframe thead th {\n",
       "        text-align: right;\n",
       "    }\n",
       "</style>\n",
       "<table border=\"1\" class=\"dataframe\">\n",
       "  <thead>\n",
       "    <tr style=\"text-align: right;\">\n",
       "      <th></th>\n",
       "      <th>Asset_ID</th>\n",
       "      <th>Count</th>\n",
       "      <th>Open</th>\n",
       "      <th>High</th>\n",
       "      <th>Low</th>\n",
       "      <th>Close</th>\n",
       "      <th>Volume</th>\n",
       "      <th>VWAP</th>\n",
       "      <th>Target</th>\n",
       "      <th>Returns</th>\n",
       "    </tr>\n",
       "    <tr>\n",
       "      <th>timestamp</th>\n",
       "      <th></th>\n",
       "      <th></th>\n",
       "      <th></th>\n",
       "      <th></th>\n",
       "      <th></th>\n",
       "      <th></th>\n",
       "      <th></th>\n",
       "      <th></th>\n",
       "      <th></th>\n",
       "      <th></th>\n",
       "    </tr>\n",
       "  </thead>\n",
       "  <tbody>\n",
       "    <tr>\n",
       "      <th>1555079700</th>\n",
       "      <td>1.0</td>\n",
       "      <td>393.0</td>\n",
       "      <td>5062.335714</td>\n",
       "      <td>5103.1</td>\n",
       "      <td>5029.93</td>\n",
       "      <td>5064.698571</td>\n",
       "      <td>69.980211</td>\n",
       "      <td>5063.865985</td>\n",
       "      <td>-0.000731</td>\n",
       "      <td>0.000480</td>\n",
       "    </tr>\n",
       "    <tr>\n",
       "      <th>1555079760</th>\n",
       "      <td>1.0</td>\n",
       "      <td>385.0</td>\n",
       "      <td>5064.660000</td>\n",
       "      <td>5107.1</td>\n",
       "      <td>5032.67</td>\n",
       "      <td>5064.230000</td>\n",
       "      <td>43.839321</td>\n",
       "      <td>5064.879145</td>\n",
       "      <td>-0.001341</td>\n",
       "      <td>-0.000093</td>\n",
       "    </tr>\n",
       "    <tr>\n",
       "      <th>1555079820</th>\n",
       "      <td>1.0</td>\n",
       "      <td>253.0</td>\n",
       "      <td>5063.025714</td>\n",
       "      <td>5106.7</td>\n",
       "      <td>5032.31</td>\n",
       "      <td>5064.100000</td>\n",
       "      <td>17.491115</td>\n",
       "      <td>5063.344522</td>\n",
       "      <td>-0.001508</td>\n",
       "      <td>-0.000026</td>\n",
       "    </tr>\n",
       "    <tr>\n",
       "      <th>1555079880</th>\n",
       "      <td>1.0</td>\n",
       "      <td>238.0</td>\n",
       "      <td>5063.898571</td>\n",
       "      <td>5107.1</td>\n",
       "      <td>5031.25</td>\n",
       "      <td>5064.487143</td>\n",
       "      <td>35.684000</td>\n",
       "      <td>5064.033077</td>\n",
       "      <td>-0.001657</td>\n",
       "      <td>0.000076</td>\n",
       "    </tr>\n",
       "    <tr>\n",
       "      <th>1555079940</th>\n",
       "      <td>1.0</td>\n",
       "      <td>382.0</td>\n",
       "      <td>5064.262857</td>\n",
       "      <td>5106.1</td>\n",
       "      <td>5032.44</td>\n",
       "      <td>5063.688571</td>\n",
       "      <td>69.868692</td>\n",
       "      <td>5064.060058</td>\n",
       "      <td>-0.000344</td>\n",
       "      <td>-0.000158</td>\n",
       "    </tr>\n",
       "  </tbody>\n",
       "</table>\n",
       "</div>"
      ],
      "text/plain": [
       "            Asset_ID  Count         Open    High      Low        Close  \\\n",
       "timestamp                                                                \n",
       "1555079700       1.0  393.0  5062.335714  5103.1  5029.93  5064.698571   \n",
       "1555079760       1.0  385.0  5064.660000  5107.1  5032.67  5064.230000   \n",
       "1555079820       1.0  253.0  5063.025714  5106.7  5032.31  5064.100000   \n",
       "1555079880       1.0  238.0  5063.898571  5107.1  5031.25  5064.487143   \n",
       "1555079940       1.0  382.0  5064.262857  5106.1  5032.44  5063.688571   \n",
       "\n",
       "               Volume         VWAP    Target   Returns  \n",
       "timestamp                                               \n",
       "1555079700  69.980211  5063.865985 -0.000731  0.000480  \n",
       "1555079760  43.839321  5064.879145 -0.001341 -0.000093  \n",
       "1555079820  17.491115  5063.344522 -0.001508 -0.000026  \n",
       "1555079880  35.684000  5064.033077 -0.001657  0.000076  \n",
       "1555079940  69.868692  5064.060058 -0.000344 -0.000158  "
      ]
     },
     "execution_count": 4,
     "metadata": {},
     "output_type": "execute_result"
    }
   ],
   "source": [
    "data = pd.read_pickle(data_folder + 'CleanData2/1.pkl') # BTC\n",
    "data.head()"
   ]
  },
  {
   "cell_type": "code",
   "execution_count": 5,
   "id": "91c81b54",
   "metadata": {},
   "outputs": [],
   "source": [
    "import AlphaCode as ac"
   ]
  },
  {
   "cell_type": "code",
   "execution_count": 6,
   "id": "959daaf9",
   "metadata": {},
   "outputs": [],
   "source": [
    "stock = ac.Alphas(data)"
   ]
  },
  {
   "cell_type": "code",
   "execution_count": 10,
   "id": "ce0996d6",
   "metadata": {},
   "outputs": [
    {
     "data": {
      "text/html": [
       "<div>\n",
       "<style scoped>\n",
       "    .dataframe tbody tr th:only-of-type {\n",
       "        vertical-align: middle;\n",
       "    }\n",
       "\n",
       "    .dataframe tbody tr th {\n",
       "        vertical-align: top;\n",
       "    }\n",
       "\n",
       "    .dataframe thead th {\n",
       "        text-align: right;\n",
       "    }\n",
       "</style>\n",
       "<table border=\"1\" class=\"dataframe\">\n",
       "  <thead>\n",
       "    <tr style=\"text-align: right;\">\n",
       "      <th></th>\n",
       "      <th>Animal</th>\n",
       "      <th>Number_legs</th>\n",
       "    </tr>\n",
       "  </thead>\n",
       "  <tbody>\n",
       "    <tr>\n",
       "      <th>0</th>\n",
       "      <td>cat</td>\n",
       "      <td>4.0</td>\n",
       "    </tr>\n",
       "    <tr>\n",
       "      <th>1</th>\n",
       "      <td>penguin</td>\n",
       "      <td>2.0</td>\n",
       "    </tr>\n",
       "    <tr>\n",
       "      <th>2</th>\n",
       "      <td>dog</td>\n",
       "      <td>4.0</td>\n",
       "    </tr>\n",
       "    <tr>\n",
       "      <th>3</th>\n",
       "      <td>spider</td>\n",
       "      <td>8.0</td>\n",
       "    </tr>\n",
       "    <tr>\n",
       "      <th>4</th>\n",
       "      <td>snake</td>\n",
       "      <td>NaN</td>\n",
       "    </tr>\n",
       "  </tbody>\n",
       "</table>\n",
       "</div>"
      ],
      "text/plain": [
       "    Animal  Number_legs\n",
       "0      cat          4.0\n",
       "1  penguin          2.0\n",
       "2      dog          4.0\n",
       "3   spider          8.0\n",
       "4    snake          NaN"
      ]
     },
     "execution_count": 10,
     "metadata": {},
     "output_type": "execute_result"
    }
   ],
   "source": [
    "df = pd.DataFrame(data={'Animal': ['cat', 'penguin', 'dog',\n",
    "                                   'spider', 'snake'],\n",
    "                        'Number_legs': [4, 2, 4, 8, np.nan]})\n",
    "df"
   ]
  },
  {
   "cell_type": "code",
   "execution_count": 15,
   "id": "e3e1593a",
   "metadata": {},
   "outputs": [
    {
     "data": {
      "text/html": [
       "<div>\n",
       "<style scoped>\n",
       "    .dataframe tbody tr th:only-of-type {\n",
       "        vertical-align: middle;\n",
       "    }\n",
       "\n",
       "    .dataframe tbody tr th {\n",
       "        vertical-align: top;\n",
       "    }\n",
       "\n",
       "    .dataframe thead th {\n",
       "        text-align: right;\n",
       "    }\n",
       "</style>\n",
       "<table border=\"1\" class=\"dataframe\">\n",
       "  <thead>\n",
       "    <tr style=\"text-align: right;\">\n",
       "      <th></th>\n",
       "      <th>Animal</th>\n",
       "      <th>Number_legs</th>\n",
       "    </tr>\n",
       "  </thead>\n",
       "  <tbody>\n",
       "    <tr>\n",
       "      <th>0</th>\n",
       "      <td>0.2</td>\n",
       "      <td>0.625</td>\n",
       "    </tr>\n",
       "    <tr>\n",
       "      <th>1</th>\n",
       "      <td>0.6</td>\n",
       "      <td>0.250</td>\n",
       "    </tr>\n",
       "    <tr>\n",
       "      <th>2</th>\n",
       "      <td>0.4</td>\n",
       "      <td>0.625</td>\n",
       "    </tr>\n",
       "    <tr>\n",
       "      <th>3</th>\n",
       "      <td>1.0</td>\n",
       "      <td>1.000</td>\n",
       "    </tr>\n",
       "    <tr>\n",
       "      <th>4</th>\n",
       "      <td>0.8</td>\n",
       "      <td>NaN</td>\n",
       "    </tr>\n",
       "  </tbody>\n",
       "</table>\n",
       "</div>"
      ],
      "text/plain": [
       "   Animal  Number_legs\n",
       "0     0.2        0.625\n",
       "1     0.6        0.250\n",
       "2     0.4        0.625\n",
       "3     1.0        1.000\n",
       "4     0.8          NaN"
      ]
     },
     "execution_count": 15,
     "metadata": {},
     "output_type": "execute_result"
    }
   ],
   "source": [
    "df.rank(0, pct=True)"
   ]
  },
  {
   "cell_type": "code",
   "execution_count": 17,
   "id": "928d5380",
   "metadata": {
    "scrolled": true
   },
   "outputs": [
    {
     "data": {
      "text/plain": [
       "38"
      ]
     },
     "execution_count": 17,
     "metadata": {},
     "output_type": "execute_result"
    }
   ],
   "source": [
    "temp.isna().sum()"
   ]
  },
  {
   "cell_type": "code",
   "execution_count": 13,
   "id": "6e46d3d4",
   "metadata": {
    "scrolled": true
   },
   "outputs": [
    {
     "data": {
      "text/plain": [
       "timestamp\n",
       "1514764920         NaN\n",
       "1514764980         NaN\n",
       "1514765040         NaN\n",
       "1514765100         NaN\n",
       "1514765160         NaN\n",
       "                ...   \n",
       "1632182160   -0.093352\n",
       "1632182220   -0.622495\n",
       "1632182280   -0.654921\n",
       "1632182340   -0.517107\n",
       "1632182400   -0.170945\n",
       "Length: 1956959, dtype: float64"
      ]
     },
     "execution_count": 13,
     "metadata": {},
     "output_type": "execute_result"
    }
   ],
   "source": [
    "temp = ac.correlation(ac.ts_rank(((stock.high + stock.low) / 2), 4), ac.ts_rank(stock.volume, 10),7)\n",
    "temp"
   ]
  },
  {
   "cell_type": "code",
   "execution_count": 14,
   "id": "64d27381",
   "metadata": {
    "scrolled": true
   },
   "outputs": [
    {
     "data": {
      "text/plain": [
       "16852"
      ]
     },
     "execution_count": 14,
     "metadata": {},
     "output_type": "execute_result"
    }
   ],
   "source": [
    "temp.isna().sum()"
   ]
  },
  {
   "cell_type": "code",
   "execution_count": 15,
   "id": "c8f6905a",
   "metadata": {},
   "outputs": [
    {
     "data": {
      "text/plain": [
       "timestamp\n",
       "1514764920    0.000000\n",
       "1514764980    0.000000\n",
       "1514765040    0.000000\n",
       "1514765100    0.000000\n",
       "1514765160    0.000000\n",
       "                ...   \n",
       "1632182160   -0.093352\n",
       "1632182220   -0.622495\n",
       "1632182280   -0.654921\n",
       "1632182340   -0.517107\n",
       "1632182400   -0.170945\n",
       "Length: 1956959, dtype: float64"
      ]
     },
     "execution_count": 15,
     "metadata": {},
     "output_type": "execute_result"
    }
   ],
   "source": [
    "temp.fillna(0)"
   ]
  },
  {
   "cell_type": "code",
   "execution_count": 32,
   "id": "5029349c",
   "metadata": {},
   "outputs": [
    {
     "data": {
      "text/plain": [
       "timestamp\n",
       "1514764920     NaN\n",
       "1514764980     NaN\n",
       "1514765040     NaN\n",
       "1514765100     NaN\n",
       "1514765160     NaN\n",
       "              ... \n",
       "1632182160     4.0\n",
       "1632182220     7.0\n",
       "1632182280     6.0\n",
       "1632182340    10.0\n",
       "1632182400     9.0\n",
       "Name: Volume, Length: 1956959, dtype: float64"
      ]
     },
     "execution_count": 32,
     "metadata": {},
     "output_type": "execute_result"
    }
   ],
   "source": [
    "ac.ts_rank(stock.volume, 10)"
   ]
  },
  {
   "cell_type": "code",
   "execution_count": 14,
   "id": "b8bf470b",
   "metadata": {},
   "outputs": [
    {
     "data": {
      "text/plain": [
       "(timestamp\n",
       " 1514764920              NaN\n",
       " 1514764980              NaN\n",
       " 1514765040              NaN\n",
       " 1514765100              NaN\n",
       " 1514765160     68839.482000\n",
       "                   ...      \n",
       " 1632182160    214810.145717\n",
       " 1632182220    214690.317681\n",
       " 1632182280    214556.736253\n",
       " 1632182340    214588.530538\n",
       " 1632182400    214605.820714\n",
       " Name: Close, Length: 1956959, dtype: float64,\n",
       " timestamp\n",
       " 1514764920              NaN\n",
       " 1514764980              NaN\n",
       " 1514765040              NaN\n",
       " 1514765100              NaN\n",
       " 1514765160              NaN\n",
       "                   ...      \n",
       " 1632182160    856313.242717\n",
       " 1632182220    856436.595931\n",
       " 1632182280    856494.220217\n",
       " 1632182340    856874.382360\n",
       " 1632182400    857173.251110\n",
       " Name: Close, Length: 1956959, dtype: float64)"
      ]
     },
     "execution_count": 14,
     "metadata": {},
     "output_type": "execute_result"
    }
   ],
   "source": [
    "ac.ts_sum(stock.close, 5), ac.ts_sum(stock.close, 20)"
   ]
  },
  {
   "cell_type": "code",
   "execution_count": 57,
   "id": "e0d2e3b5",
   "metadata": {},
   "outputs": [
    {
     "name": "stdout",
     "output_type": "stream",
     "text": [
      "Asset_ID 0\n",
      "Count 0\n",
      "Open 0\n",
      "High 0\n",
      "Low 0\n",
      "Close 14\n",
      "Volume 0\n",
      "VWAP 0\n",
      "Target 0\n",
      "Returns 0\n",
      "alpha001 23\n",
      "alpha002 0\n",
      "alpha003 0\n",
      "alpha004 8\n",
      "alpha005 14\n",
      "alpha006 0\n",
      "alpha007 45\n",
      "alpha008 14\n",
      "alpha009 19\n",
      "alpha010 19\n",
      "alpha011 21\n",
      "alpha012 19\n",
      "alpha013 23\n",
      "alpha014 3\n",
      "alpha015 2\n",
      "alpha016 4\n",
      "alpha017 28\n",
      "alpha018 23\n",
      "alpha019 249\n",
      "alpha020 15\n",
      "alpha021 0\n",
      "alpha022 38\n",
      "alpha023 0\n",
      "alpha024 20\n",
      "alpha025 19\n",
      "alpha026 2\n",
      "alpha027 6\n",
      "alpha028 14\n",
      "alpha029 29\n",
      "alpha030 22\n",
      "alpha031 20\n",
      "alpha032 253\n",
      "alpha033 14\n",
      "alpha034 19\n",
      "alpha035 34\n",
      "alpha036 226\n",
      "alpha037 219\n",
      "alpha038 9\n",
      "alpha039 249\n",
      "alpha040 301\n",
      "alpha041 0\n",
      "alpha042 14\n",
      "alpha043 38\n",
      "alpha044 0\n",
      "alpha045 401161\n",
      "alpha046 19\n",
      "alpha047 19\n",
      "alpha049 19\n",
      "alpha050 15\n",
      "alpha051 19\n",
      "alpha052 239\n",
      "alpha053 23\n",
      "alpha054 14\n",
      "alpha055 0\n",
      "alpha057 14\n",
      "alpha060 28\n",
      "alpha061 0\n",
      "alpha062 0\n",
      "alpha064 0\n",
      "alpha065 0\n",
      "alpha066 2043\n",
      "alpha068 0\n",
      "alpha071 15\n",
      "alpha072 0\n",
      "alpha073 16\n",
      "alpha074 0\n",
      "alpha075 0\n",
      "alpha077 0\n",
      "alpha078 64\n",
      "alpha081 0\n",
      "alpha083 132\n",
      "alpha084 34\n",
      "alpha085 16875\n",
      "alpha086 0\n",
      "alpha088 2\n",
      "alpha092 18\n",
      "alpha094 151\n",
      "alpha095 0\n",
      "alpha096 12\n",
      "alpha098 0\n",
      "alpha099 0\n",
      "alpha101 14\n"
     ]
    }
   ],
   "source": [
    "res = data2.isna().sum()\n",
    "for i, r in enumerate(res):\n",
    "    print(data2.columns[i], r)"
   ]
  },
  {
   "cell_type": "code",
   "execution_count": null,
   "id": "14f34aea",
   "metadata": {},
   "outputs": [],
   "source": []
  }
 ],
 "metadata": {
  "kernelspec": {
   "display_name": "Python 3 (ipykernel)",
   "language": "python",
   "name": "python3"
  },
  "language_info": {
   "codemirror_mode": {
    "name": "ipython",
    "version": 3
   },
   "file_extension": ".py",
   "mimetype": "text/x-python",
   "name": "python",
   "nbconvert_exporter": "python",
   "pygments_lexer": "ipython3",
   "version": "3.10.0"
  },
  "varInspector": {
   "cols": {
    "lenName": 16,
    "lenType": 16,
    "lenVar": 40
   },
   "kernels_config": {
    "python": {
     "delete_cmd_postfix": "",
     "delete_cmd_prefix": "del ",
     "library": "var_list.py",
     "varRefreshCmd": "print(var_dic_list())"
    },
    "r": {
     "delete_cmd_postfix": ") ",
     "delete_cmd_prefix": "rm(",
     "library": "var_list.r",
     "varRefreshCmd": "cat(var_dic_list()) "
    }
   },
   "types_to_exclude": [
    "module",
    "function",
    "builtin_function_or_method",
    "instance",
    "_Feature"
   ],
   "window_display": false
  }
 },
 "nbformat": 4,
 "nbformat_minor": 5
}
