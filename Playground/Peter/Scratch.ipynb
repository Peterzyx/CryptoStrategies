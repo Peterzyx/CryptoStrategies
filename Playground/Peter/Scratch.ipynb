{
 "cells": [
  {
   "cell_type": "code",
   "execution_count": 1,
   "id": "28d298ed",
   "metadata": {},
   "outputs": [],
   "source": [
    "%load_ext autoreload\n",
    "%autoreload 2\n",
    "#%reload_ext autoreload"
   ]
  },
  {
   "cell_type": "code",
   "execution_count": 2,
   "id": "d7846615",
   "metadata": {},
   "outputs": [],
   "source": [
    "import pandas as pd\n",
    "import numpy as np\n",
    "from datetime import datetime\n",
    "data_folder = \"../../Data/Kaggle/\""
   ]
  },
  {
   "cell_type": "code",
   "execution_count": 3,
   "id": "f7214b5b",
   "metadata": {},
   "outputs": [
    {
     "data": {
      "text/html": [
       "<div>\n",
       "<style scoped>\n",
       "    .dataframe tbody tr th:only-of-type {\n",
       "        vertical-align: middle;\n",
       "    }\n",
       "\n",
       "    .dataframe tbody tr th {\n",
       "        vertical-align: top;\n",
       "    }\n",
       "\n",
       "    .dataframe thead th {\n",
       "        text-align: right;\n",
       "    }\n",
       "</style>\n",
       "<table border=\"1\" class=\"dataframe\">\n",
       "  <thead>\n",
       "    <tr style=\"text-align: right;\">\n",
       "      <th></th>\n",
       "      <th>Asset_ID</th>\n",
       "      <th>Weight</th>\n",
       "      <th>Asset_Name</th>\n",
       "    </tr>\n",
       "  </thead>\n",
       "  <tbody>\n",
       "    <tr>\n",
       "      <th>1</th>\n",
       "      <td>0</td>\n",
       "      <td>4.304065</td>\n",
       "      <td>Binance Coin</td>\n",
       "    </tr>\n",
       "    <tr>\n",
       "      <th>2</th>\n",
       "      <td>1</td>\n",
       "      <td>6.779922</td>\n",
       "      <td>Bitcoin</td>\n",
       "    </tr>\n",
       "    <tr>\n",
       "      <th>0</th>\n",
       "      <td>2</td>\n",
       "      <td>2.397895</td>\n",
       "      <td>Bitcoin Cash</td>\n",
       "    </tr>\n",
       "    <tr>\n",
       "      <th>10</th>\n",
       "      <td>3</td>\n",
       "      <td>4.406719</td>\n",
       "      <td>Cardano</td>\n",
       "    </tr>\n",
       "    <tr>\n",
       "      <th>13</th>\n",
       "      <td>4</td>\n",
       "      <td>3.555348</td>\n",
       "      <td>Dogecoin</td>\n",
       "    </tr>\n",
       "    <tr>\n",
       "      <th>3</th>\n",
       "      <td>5</td>\n",
       "      <td>1.386294</td>\n",
       "      <td>EOS.IO</td>\n",
       "    </tr>\n",
       "    <tr>\n",
       "      <th>5</th>\n",
       "      <td>6</td>\n",
       "      <td>5.894403</td>\n",
       "      <td>Ethereum</td>\n",
       "    </tr>\n",
       "    <tr>\n",
       "      <th>4</th>\n",
       "      <td>7</td>\n",
       "      <td>2.079442</td>\n",
       "      <td>Ethereum Classic</td>\n",
       "    </tr>\n",
       "    <tr>\n",
       "      <th>11</th>\n",
       "      <td>8</td>\n",
       "      <td>1.098612</td>\n",
       "      <td>IOTA</td>\n",
       "    </tr>\n",
       "    <tr>\n",
       "      <th>6</th>\n",
       "      <td>9</td>\n",
       "      <td>2.397895</td>\n",
       "      <td>Litecoin</td>\n",
       "    </tr>\n",
       "    <tr>\n",
       "      <th>12</th>\n",
       "      <td>10</td>\n",
       "      <td>1.098612</td>\n",
       "      <td>Maker</td>\n",
       "    </tr>\n",
       "    <tr>\n",
       "      <th>7</th>\n",
       "      <td>11</td>\n",
       "      <td>1.609438</td>\n",
       "      <td>Monero</td>\n",
       "    </tr>\n",
       "    <tr>\n",
       "      <th>9</th>\n",
       "      <td>12</td>\n",
       "      <td>2.079442</td>\n",
       "      <td>Stellar</td>\n",
       "    </tr>\n",
       "    <tr>\n",
       "      <th>8</th>\n",
       "      <td>13</td>\n",
       "      <td>1.791759</td>\n",
       "      <td>TRON</td>\n",
       "    </tr>\n",
       "  </tbody>\n",
       "</table>\n",
       "</div>"
      ],
      "text/plain": [
       "    Asset_ID    Weight        Asset_Name\n",
       "1          0  4.304065      Binance Coin\n",
       "2          1  6.779922           Bitcoin\n",
       "0          2  2.397895      Bitcoin Cash\n",
       "10         3  4.406719           Cardano\n",
       "13         4  3.555348          Dogecoin\n",
       "3          5  1.386294            EOS.IO\n",
       "5          6  5.894403          Ethereum\n",
       "4          7  2.079442  Ethereum Classic\n",
       "11         8  1.098612              IOTA\n",
       "6          9  2.397895          Litecoin\n",
       "12        10  1.098612             Maker\n",
       "7         11  1.609438            Monero\n",
       "9         12  2.079442           Stellar\n",
       "8         13  1.791759              TRON"
      ]
     },
     "execution_count": 3,
     "metadata": {},
     "output_type": "execute_result"
    }
   ],
   "source": [
    "asset_details = pd.read_csv(data_folder + 'asset_details.csv')\n",
    "asset_details.sort_values(by=['Asset_ID'])"
   ]
  },
  {
   "cell_type": "code",
   "execution_count": 4,
   "id": "b82fba80",
   "metadata": {
    "scrolled": true
   },
   "outputs": [
    {
     "data": {
      "text/html": [
       "<div>\n",
       "<style scoped>\n",
       "    .dataframe tbody tr th:only-of-type {\n",
       "        vertical-align: middle;\n",
       "    }\n",
       "\n",
       "    .dataframe tbody tr th {\n",
       "        vertical-align: top;\n",
       "    }\n",
       "\n",
       "    .dataframe thead th {\n",
       "        text-align: right;\n",
       "    }\n",
       "</style>\n",
       "<table border=\"1\" class=\"dataframe\">\n",
       "  <thead>\n",
       "    <tr style=\"text-align: right;\">\n",
       "      <th></th>\n",
       "      <th>Asset_ID</th>\n",
       "      <th>Count</th>\n",
       "      <th>Open</th>\n",
       "      <th>High</th>\n",
       "      <th>Low</th>\n",
       "      <th>Close</th>\n",
       "      <th>Volume</th>\n",
       "      <th>VWAP</th>\n",
       "      <th>Target</th>\n",
       "      <th>Returns</th>\n",
       "    </tr>\n",
       "    <tr>\n",
       "      <th>timestamp</th>\n",
       "      <th></th>\n",
       "      <th></th>\n",
       "      <th></th>\n",
       "      <th></th>\n",
       "      <th></th>\n",
       "      <th></th>\n",
       "      <th></th>\n",
       "      <th></th>\n",
       "      <th></th>\n",
       "      <th></th>\n",
       "    </tr>\n",
       "  </thead>\n",
       "  <tbody>\n",
       "    <tr>\n",
       "      <th>1514764920</th>\n",
       "      <td>1.0</td>\n",
       "      <td>235.0</td>\n",
       "      <td>13835.036</td>\n",
       "      <td>14052.3</td>\n",
       "      <td>13680.00</td>\n",
       "      <td>13828.102</td>\n",
       "      <td>31.046432</td>\n",
       "      <td>13840.362591</td>\n",
       "      <td>-0.015037</td>\n",
       "      <td>-0.001594</td>\n",
       "    </tr>\n",
       "    <tr>\n",
       "      <th>1514764980</th>\n",
       "      <td>1.0</td>\n",
       "      <td>528.0</td>\n",
       "      <td>13823.900</td>\n",
       "      <td>14000.4</td>\n",
       "      <td>13601.00</td>\n",
       "      <td>13801.314</td>\n",
       "      <td>55.061820</td>\n",
       "      <td>13806.068014</td>\n",
       "      <td>-0.010309</td>\n",
       "      <td>-0.001937</td>\n",
       "    </tr>\n",
       "    <tr>\n",
       "      <th>1514765040</th>\n",
       "      <td>1.0</td>\n",
       "      <td>435.0</td>\n",
       "      <td>13802.512</td>\n",
       "      <td>13999.0</td>\n",
       "      <td>13576.28</td>\n",
       "      <td>13768.040</td>\n",
       "      <td>38.780529</td>\n",
       "      <td>13783.598101</td>\n",
       "      <td>-0.008999</td>\n",
       "      <td>-0.002411</td>\n",
       "    </tr>\n",
       "    <tr>\n",
       "      <th>1514765100</th>\n",
       "      <td>1.0</td>\n",
       "      <td>742.0</td>\n",
       "      <td>13766.000</td>\n",
       "      <td>13955.9</td>\n",
       "      <td>13554.44</td>\n",
       "      <td>13724.914</td>\n",
       "      <td>108.501637</td>\n",
       "      <td>13735.586842</td>\n",
       "      <td>-0.008079</td>\n",
       "      <td>-0.003132</td>\n",
       "    </tr>\n",
       "    <tr>\n",
       "      <th>1514765160</th>\n",
       "      <td>1.0</td>\n",
       "      <td>554.0</td>\n",
       "      <td>13717.714</td>\n",
       "      <td>14000.7</td>\n",
       "      <td>13520.00</td>\n",
       "      <td>13717.112</td>\n",
       "      <td>70.805776</td>\n",
       "      <td>13706.952030</td>\n",
       "      <td>-0.004422</td>\n",
       "      <td>-0.000568</td>\n",
       "    </tr>\n",
       "  </tbody>\n",
       "</table>\n",
       "</div>"
      ],
      "text/plain": [
       "            Asset_ID  Count       Open     High       Low      Close  \\\n",
       "timestamp                                                              \n",
       "1514764920       1.0  235.0  13835.036  14052.3  13680.00  13828.102   \n",
       "1514764980       1.0  528.0  13823.900  14000.4  13601.00  13801.314   \n",
       "1514765040       1.0  435.0  13802.512  13999.0  13576.28  13768.040   \n",
       "1514765100       1.0  742.0  13766.000  13955.9  13554.44  13724.914   \n",
       "1514765160       1.0  554.0  13717.714  14000.7  13520.00  13717.112   \n",
       "\n",
       "                Volume          VWAP    Target   Returns  \n",
       "timestamp                                                 \n",
       "1514764920   31.046432  13840.362591 -0.015037 -0.001594  \n",
       "1514764980   55.061820  13806.068014 -0.010309 -0.001937  \n",
       "1514765040   38.780529  13783.598101 -0.008999 -0.002411  \n",
       "1514765100  108.501637  13735.586842 -0.008079 -0.003132  \n",
       "1514765160   70.805776  13706.952030 -0.004422 -0.000568  "
      ]
     },
     "execution_count": 4,
     "metadata": {},
     "output_type": "execute_result"
    }
   ],
   "source": [
    "data = pd.read_pickle(data_folder + 'clean data/1.pkl') # BTC\n",
    "data.head()"
   ]
  },
  {
   "cell_type": "code",
   "execution_count": 5,
   "id": "91c81b54",
   "metadata": {},
   "outputs": [],
   "source": [
    "import AlphaCode as ac"
   ]
  },
  {
   "cell_type": "code",
   "execution_count": 6,
   "id": "f72c1e90",
   "metadata": {},
   "outputs": [],
   "source": [
    "# data2 = ac.get_alpha(data)\n",
    "# data2.to_pickle('../../Data/Kaggle/alpha data/1.pkl')"
   ]
  },
  {
   "cell_type": "code",
   "execution_count": 9,
   "id": "959daaf9",
   "metadata": {},
   "outputs": [],
   "source": [
    "stock = ac.Alphas(data)"
   ]
  },
  {
   "cell_type": "code",
   "execution_count": 27,
   "id": "e3e1593a",
   "metadata": {},
   "outputs": [
    {
     "data": {
      "text/plain": [
       "timestamp\n",
       "1514764920             NaN\n",
       "1514764980             NaN\n",
       "1514765040             NaN\n",
       "1514765100             NaN\n",
       "1514765160             NaN\n",
       "                  ...     \n",
       "1632182160    4.134499e-31\n",
       "1632182220    1.753062e-84\n",
       "1632182280    3.766745e-81\n",
       "1632182340    2.050203e+34\n",
       "1632182400    5.056877e+21\n",
       "Length: 1956959, dtype: float64"
      ]
     },
     "execution_count": 27,
     "metadata": {},
     "output_type": "execute_result"
    }
   ],
   "source": [
    "temp = stock.alpha084()\n",
    "temp"
   ]
  },
  {
   "cell_type": "code",
   "execution_count": 28,
   "id": "928d5380",
   "metadata": {},
   "outputs": [
    {
     "data": {
      "text/plain": [
       "34"
      ]
     },
     "execution_count": 28,
     "metadata": {},
     "output_type": "execute_result"
    }
   ],
   "source": [
    "temp.isna().sum()"
   ]
  },
  {
   "cell_type": "code",
   "execution_count": 31,
   "id": "c8f6905a",
   "metadata": {},
   "outputs": [
    {
     "data": {
      "text/plain": [
       "16852"
      ]
     },
     "execution_count": 31,
     "metadata": {},
     "output_type": "execute_result"
    }
   ],
   "source": [
    "ac.correlation(ac.ts_rank((stock.high + stock.low) / 2, 4), ac.ts_rank(stock.volume, 10), 7).isna().sum()"
   ]
  },
  {
   "cell_type": "code",
   "execution_count": 32,
   "id": "5029349c",
   "metadata": {},
   "outputs": [
    {
     "data": {
      "text/plain": [
       "timestamp\n",
       "1514764920     NaN\n",
       "1514764980     NaN\n",
       "1514765040     NaN\n",
       "1514765100     NaN\n",
       "1514765160     NaN\n",
       "              ... \n",
       "1632182160     4.0\n",
       "1632182220     7.0\n",
       "1632182280     6.0\n",
       "1632182340    10.0\n",
       "1632182400     9.0\n",
       "Name: Volume, Length: 1956959, dtype: float64"
      ]
     },
     "execution_count": 32,
     "metadata": {},
     "output_type": "execute_result"
    }
   ],
   "source": [
    "ac.ts_rank(stock.volume, 10)"
   ]
  },
  {
   "cell_type": "code",
   "execution_count": 14,
   "id": "b8bf470b",
   "metadata": {},
   "outputs": [
    {
     "data": {
      "text/plain": [
       "(timestamp\n",
       " 1514764920              NaN\n",
       " 1514764980              NaN\n",
       " 1514765040              NaN\n",
       " 1514765100              NaN\n",
       " 1514765160     68839.482000\n",
       "                   ...      \n",
       " 1632182160    214810.145717\n",
       " 1632182220    214690.317681\n",
       " 1632182280    214556.736253\n",
       " 1632182340    214588.530538\n",
       " 1632182400    214605.820714\n",
       " Name: Close, Length: 1956959, dtype: float64,\n",
       " timestamp\n",
       " 1514764920              NaN\n",
       " 1514764980              NaN\n",
       " 1514765040              NaN\n",
       " 1514765100              NaN\n",
       " 1514765160              NaN\n",
       "                   ...      \n",
       " 1632182160    856313.242717\n",
       " 1632182220    856436.595931\n",
       " 1632182280    856494.220217\n",
       " 1632182340    856874.382360\n",
       " 1632182400    857173.251110\n",
       " Name: Close, Length: 1956959, dtype: float64)"
      ]
     },
     "execution_count": 14,
     "metadata": {},
     "output_type": "execute_result"
    }
   ],
   "source": [
    "ac.ts_sum(stock.close, 5), ac.ts_sum(stock.close, 20)"
   ]
  },
  {
   "cell_type": "code",
   "execution_count": 57,
   "id": "e0d2e3b5",
   "metadata": {},
   "outputs": [
    {
     "name": "stdout",
     "output_type": "stream",
     "text": [
      "Asset_ID 0\n",
      "Count 0\n",
      "Open 0\n",
      "High 0\n",
      "Low 0\n",
      "Close 14\n",
      "Volume 0\n",
      "VWAP 0\n",
      "Target 0\n",
      "Returns 0\n",
      "alpha001 23\n",
      "alpha002 0\n",
      "alpha003 0\n",
      "alpha004 8\n",
      "alpha005 14\n",
      "alpha006 0\n",
      "alpha007 45\n",
      "alpha008 14\n",
      "alpha009 19\n",
      "alpha010 19\n",
      "alpha011 21\n",
      "alpha012 19\n",
      "alpha013 23\n",
      "alpha014 3\n",
      "alpha015 2\n",
      "alpha016 4\n",
      "alpha017 28\n",
      "alpha018 23\n",
      "alpha019 249\n",
      "alpha020 15\n",
      "alpha021 0\n",
      "alpha022 38\n",
      "alpha023 0\n",
      "alpha024 20\n",
      "alpha025 19\n",
      "alpha026 2\n",
      "alpha027 6\n",
      "alpha028 14\n",
      "alpha029 29\n",
      "alpha030 22\n",
      "alpha031 20\n",
      "alpha032 253\n",
      "alpha033 14\n",
      "alpha034 19\n",
      "alpha035 34\n",
      "alpha036 226\n",
      "alpha037 219\n",
      "alpha038 9\n",
      "alpha039 249\n",
      "alpha040 301\n",
      "alpha041 0\n",
      "alpha042 14\n",
      "alpha043 38\n",
      "alpha044 0\n",
      "alpha045 401161\n",
      "alpha046 19\n",
      "alpha047 19\n",
      "alpha049 19\n",
      "alpha050 15\n",
      "alpha051 19\n",
      "alpha052 239\n",
      "alpha053 23\n",
      "alpha054 14\n",
      "alpha055 0\n",
      "alpha057 14\n",
      "alpha060 28\n",
      "alpha061 0\n",
      "alpha062 0\n",
      "alpha064 0\n",
      "alpha065 0\n",
      "alpha066 2043\n",
      "alpha068 0\n",
      "alpha071 15\n",
      "alpha072 0\n",
      "alpha073 16\n",
      "alpha074 0\n",
      "alpha075 0\n",
      "alpha077 0\n",
      "alpha078 64\n",
      "alpha081 0\n",
      "alpha083 132\n",
      "alpha084 34\n",
      "alpha085 16875\n",
      "alpha086 0\n",
      "alpha088 2\n",
      "alpha092 18\n",
      "alpha094 151\n",
      "alpha095 0\n",
      "alpha096 12\n",
      "alpha098 0\n",
      "alpha099 0\n",
      "alpha101 14\n"
     ]
    }
   ],
   "source": [
    "res = data2.isna().sum()\n",
    "for i, r in enumerate(res):\n",
    "    print(data2.columns[i], r)"
   ]
  },
  {
   "cell_type": "code",
   "execution_count": null,
   "id": "14f34aea",
   "metadata": {},
   "outputs": [],
   "source": []
  }
 ],
 "metadata": {
  "kernelspec": {
   "display_name": "Python 3 (ipykernel)",
   "language": "python",
   "name": "python3"
  },
  "language_info": {
   "codemirror_mode": {
    "name": "ipython",
    "version": 3
   },
   "file_extension": ".py",
   "mimetype": "text/x-python",
   "name": "python",
   "nbconvert_exporter": "python",
   "pygments_lexer": "ipython3",
   "version": "3.7.11"
  },
  "varInspector": {
   "cols": {
    "lenName": 16,
    "lenType": 16,
    "lenVar": 40
   },
   "kernels_config": {
    "python": {
     "delete_cmd_postfix": "",
     "delete_cmd_prefix": "del ",
     "library": "var_list.py",
     "varRefreshCmd": "print(var_dic_list())"
    },
    "r": {
     "delete_cmd_postfix": ") ",
     "delete_cmd_prefix": "rm(",
     "library": "var_list.r",
     "varRefreshCmd": "cat(var_dic_list()) "
    }
   },
   "types_to_exclude": [
    "module",
    "function",
    "builtin_function_or_method",
    "instance",
    "_Feature"
   ],
   "window_display": false
  }
 },
 "nbformat": 4,
 "nbformat_minor": 5
}
