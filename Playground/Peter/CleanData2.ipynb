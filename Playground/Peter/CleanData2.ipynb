{
 "cells": [
  {
   "cell_type": "code",
   "execution_count": 1,
   "id": "f523d84f",
   "metadata": {},
   "outputs": [],
   "source": [
    "import pandas as pd\n",
    "import numpy as np\n",
    "from datetime import datetime"
   ]
  },
  {
   "cell_type": "code",
   "execution_count": 2,
   "id": "a088d23b",
   "metadata": {},
   "outputs": [
    {
     "data": {
      "text/html": [
       "<div>\n",
       "<style scoped>\n",
       "    .dataframe tbody tr th:only-of-type {\n",
       "        vertical-align: middle;\n",
       "    }\n",
       "\n",
       "    .dataframe tbody tr th {\n",
       "        vertical-align: top;\n",
       "    }\n",
       "\n",
       "    .dataframe thead th {\n",
       "        text-align: right;\n",
       "    }\n",
       "</style>\n",
       "<table border=\"1\" class=\"dataframe\">\n",
       "  <thead>\n",
       "    <tr style=\"text-align: right;\">\n",
       "      <th></th>\n",
       "      <th>Asset_ID</th>\n",
       "      <th>Count</th>\n",
       "      <th>Open</th>\n",
       "      <th>High</th>\n",
       "      <th>Low</th>\n",
       "      <th>Close</th>\n",
       "      <th>Volume</th>\n",
       "      <th>VWAP</th>\n",
       "      <th>Target</th>\n",
       "      <th>Returns</th>\n",
       "    </tr>\n",
       "  </thead>\n",
       "  <tbody>\n",
       "    <tr>\n",
       "      <th>count</th>\n",
       "      <td>1956959.0</td>\n",
       "      <td>1.956959e+06</td>\n",
       "      <td>1.956959e+06</td>\n",
       "      <td>1.956959e+06</td>\n",
       "      <td>1.956959e+06</td>\n",
       "      <td>1.956959e+06</td>\n",
       "      <td>1.956959e+06</td>\n",
       "      <td>1.956959e+06</td>\n",
       "      <td>1.956959e+06</td>\n",
       "      <td>1.956959e+06</td>\n",
       "    </tr>\n",
       "    <tr>\n",
       "      <th>mean</th>\n",
       "      <td>0.0</td>\n",
       "      <td>1.857225e+02</td>\n",
       "      <td>7.648529e+01</td>\n",
       "      <td>7.658393e+01</td>\n",
       "      <td>7.638241e+01</td>\n",
       "      <td>7.648569e+01</td>\n",
       "      <td>1.884794e+03</td>\n",
       "      <td>7.648355e+01</td>\n",
       "      <td>1.657946e-05</td>\n",
       "      <td>3.542257e-06</td>\n",
       "    </tr>\n",
       "    <tr>\n",
       "      <th>std</th>\n",
       "      <td>0.0</td>\n",
       "      <td>4.356657e+02</td>\n",
       "      <td>1.401760e+02</td>\n",
       "      <td>1.403643e+02</td>\n",
       "      <td>1.399784e+02</td>\n",
       "      <td>1.401748e+02</td>\n",
       "      <td>3.039701e+03</td>\n",
       "      <td>1.401729e+02</td>\n",
       "      <td>5.451259e-03</td>\n",
       "      <td>1.802494e-03</td>\n",
       "    </tr>\n",
       "    <tr>\n",
       "      <th>min</th>\n",
       "      <td>0.0</td>\n",
       "      <td>1.000000e+00</td>\n",
       "      <td>4.127000e+00</td>\n",
       "      <td>4.139800e+00</td>\n",
       "      <td>4.120000e+00</td>\n",
       "      <td>4.122500e+00</td>\n",
       "      <td>1.000000e-04</td>\n",
       "      <td>4.128648e+00</td>\n",
       "      <td>-3.016350e-01</td>\n",
       "      <td>-1.018474e-01</td>\n",
       "    </tr>\n",
       "    <tr>\n",
       "      <th>25%</th>\n",
       "      <td>0.0</td>\n",
       "      <td>1.700000e+01</td>\n",
       "      <td>1.296990e+01</td>\n",
       "      <td>1.298370e+01</td>\n",
       "      <td>1.295200e+01</td>\n",
       "      <td>1.297000e+01</td>\n",
       "      <td>4.213600e+02</td>\n",
       "      <td>1.296828e+01</td>\n",
       "      <td>-1.804194e-03</td>\n",
       "      <td>-6.188091e-04</td>\n",
       "    </tr>\n",
       "    <tr>\n",
       "      <th>50%</th>\n",
       "      <td>0.0</td>\n",
       "      <td>4.500000e+01</td>\n",
       "      <td>1.810000e+01</td>\n",
       "      <td>1.811400e+01</td>\n",
       "      <td>1.808560e+01</td>\n",
       "      <td>1.810000e+01</td>\n",
       "      <td>1.017130e+03</td>\n",
       "      <td>1.809976e+01</td>\n",
       "      <td>-2.269275e-05</td>\n",
       "      <td>0.000000e+00</td>\n",
       "    </tr>\n",
       "    <tr>\n",
       "      <th>75%</th>\n",
       "      <td>0.0</td>\n",
       "      <td>1.520000e+02</td>\n",
       "      <td>3.069665e+01</td>\n",
       "      <td>3.072105e+01</td>\n",
       "      <td>3.067015e+01</td>\n",
       "      <td>3.069700e+01</td>\n",
       "      <td>2.185431e+03</td>\n",
       "      <td>3.069490e+01</td>\n",
       "      <td>1.773746e-03</td>\n",
       "      <td>6.436806e-04</td>\n",
       "    </tr>\n",
       "    <tr>\n",
       "      <th>max</th>\n",
       "      <td>0.0</td>\n",
       "      <td>3.205300e+04</td>\n",
       "      <td>6.911170e+02</td>\n",
       "      <td>6.917700e+02</td>\n",
       "      <td>6.895000e+02</td>\n",
       "      <td>6.911495e+02</td>\n",
       "      <td>2.124004e+05</td>\n",
       "      <td>6.905747e+02</td>\n",
       "      <td>3.581954e-01</td>\n",
       "      <td>1.124267e-01</td>\n",
       "    </tr>\n",
       "  </tbody>\n",
       "</table>\n",
       "</div>"
      ],
      "text/plain": [
       "        Asset_ID         Count          Open          High           Low  \\\n",
       "count  1956959.0  1.956959e+06  1.956959e+06  1.956959e+06  1.956959e+06   \n",
       "mean         0.0  1.857225e+02  7.648529e+01  7.658393e+01  7.638241e+01   \n",
       "std          0.0  4.356657e+02  1.401760e+02  1.403643e+02  1.399784e+02   \n",
       "min          0.0  1.000000e+00  4.127000e+00  4.139800e+00  4.120000e+00   \n",
       "25%          0.0  1.700000e+01  1.296990e+01  1.298370e+01  1.295200e+01   \n",
       "50%          0.0  4.500000e+01  1.810000e+01  1.811400e+01  1.808560e+01   \n",
       "75%          0.0  1.520000e+02  3.069665e+01  3.072105e+01  3.067015e+01   \n",
       "max          0.0  3.205300e+04  6.911170e+02  6.917700e+02  6.895000e+02   \n",
       "\n",
       "              Close        Volume          VWAP        Target       Returns  \n",
       "count  1.956959e+06  1.956959e+06  1.956959e+06  1.956959e+06  1.956959e+06  \n",
       "mean   7.648569e+01  1.884794e+03  7.648355e+01  1.657946e-05  3.542257e-06  \n",
       "std    1.401748e+02  3.039701e+03  1.401729e+02  5.451259e-03  1.802494e-03  \n",
       "min    4.122500e+00  1.000000e-04  4.128648e+00 -3.016350e-01 -1.018474e-01  \n",
       "25%    1.297000e+01  4.213600e+02  1.296828e+01 -1.804194e-03 -6.188091e-04  \n",
       "50%    1.810000e+01  1.017130e+03  1.809976e+01 -2.269275e-05  0.000000e+00  \n",
       "75%    3.069700e+01  2.185431e+03  3.069490e+01  1.773746e-03  6.436806e-04  \n",
       "max    6.911495e+02  2.124004e+05  6.905747e+02  3.581954e-01  1.124267e-01  "
      ]
     },
     "execution_count": 2,
     "metadata": {},
     "output_type": "execute_result"
    }
   ],
   "source": [
    "data = pd.read_pickle('../../Data/Kaggle/CleanData1/0.pkl')\n",
    "data.describe()"
   ]
  },
  {
   "cell_type": "code",
   "execution_count": 12,
   "id": "ddcfba1d",
   "metadata": {
    "scrolled": true
   },
   "outputs": [
    {
     "name": "stdout",
     "output_type": "stream",
     "text": [
      "1514764920 1632182400\n",
      "1514764920 1632182400\n",
      "1514764920 1632182400\n",
      "1523956320 1632182400\n",
      "1555079700 1632182400\n",
      "1514764920 1632182400\n",
      "1514764920 1632182400\n",
      "1514764920 1632182400\n",
      "1525853280 1632182400\n",
      "1514764920 1632182400\n",
      "1525965720 1632182400\n",
      "1514764920 1632182400\n",
      "1518825240 1632182400\n",
      "1517953080 1632182400\n"
     ]
    },
    {
     "data": {
      "text/plain": [
       "(1555079700, 1632182400)"
      ]
     },
     "execution_count": 12,
     "metadata": {},
     "output_type": "execute_result"
    }
   ],
   "source": [
    "start, end = 0, float('inf')\n",
    "for i in range(14):\n",
    "    data = pd.read_pickle('../../Data/Kaggle/CleanData1/' + str(i) + '.pkl')\n",
    "    l, r = data.index[0], data.index[-1]\n",
    "    start = max(start, l)\n",
    "    end = min(end, r)\n",
    "    print(l, r)\n",
    "start, end"
   ]
  },
  {
   "cell_type": "code",
   "execution_count": 14,
   "id": "5ad4ae91",
   "metadata": {},
   "outputs": [],
   "source": [
    "data = data[data.index >= 1555079700]"
   ]
  },
  {
   "cell_type": "code",
   "execution_count": 17,
   "id": "6a678a0d",
   "metadata": {},
   "outputs": [],
   "source": [
    "for i in range(14):\n",
    "    data = pd.read_pickle('../../Data/Kaggle/CleanData1/' + str(i) + '.pkl')\n",
    "    data = data[data.index >= 1555079700]\n",
    "    data.to_pickle('../../Data/Kaggle/CleanData2/' + str(i) + '.pkl')"
   ]
  },
  {
   "cell_type": "code",
   "execution_count": null,
   "id": "4a961bb7",
   "metadata": {},
   "outputs": [],
   "source": []
  }
 ],
 "metadata": {
  "kernelspec": {
   "display_name": "Python 3 (ipykernel)",
   "language": "python",
   "name": "python3"
  },
  "language_info": {
   "codemirror_mode": {
    "name": "ipython",
    "version": 3
   },
   "file_extension": ".py",
   "mimetype": "text/x-python",
   "name": "python",
   "nbconvert_exporter": "python",
   "pygments_lexer": "ipython3",
   "version": "3.10.0"
  },
  "varInspector": {
   "cols": {
    "lenName": 16,
    "lenType": 16,
    "lenVar": 40
   },
   "kernels_config": {
    "python": {
     "delete_cmd_postfix": "",
     "delete_cmd_prefix": "del ",
     "library": "var_list.py",
     "varRefreshCmd": "print(var_dic_list())"
    },
    "r": {
     "delete_cmd_postfix": ") ",
     "delete_cmd_prefix": "rm(",
     "library": "var_list.r",
     "varRefreshCmd": "cat(var_dic_list()) "
    }
   },
   "oldHeight": 122.844,
   "position": {
    "height": "40px",
    "left": "1170px",
    "right": "20px",
    "top": "120px",
    "width": "250px"
   },
   "types_to_exclude": [
    "module",
    "function",
    "builtin_function_or_method",
    "instance",
    "_Feature"
   ],
   "varInspector_section_display": "none",
   "window_display": false
  }
 },
 "nbformat": 4,
 "nbformat_minor": 5
}
